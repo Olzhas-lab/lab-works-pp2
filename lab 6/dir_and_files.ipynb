{
 "cells": [
  {
   "cell_type": "code",
   "execution_count": null,
   "metadata": {},
   "outputs": [],
   "source": [
    "#1\n",
    "import os\n",
    "path = os.getcwd()  \n",
    "def only_dirs(path):\n",
    "    count = 0\n",
    "    for file in os.listdir(path):\n",
    "        if os.path.isdir(os.path.join(path, file)):  \n",
    "            print(file)\n",
    "            count += 1\n",
    "    if count > 0:\n",
    "        print(f\"{count} directory(ies) found!\")\n",
    "    else:\n",
    "        print(\"There is no directory in the path!\")\n",
    "\n",
    "def only_files(path):\n",
    "    count = 0\n",
    "    for file in os.listdir(path):\n",
    "        if os.path.isfile(os.path.join(path, file)): \n",
    "            print(file)\n",
    "            count += 1\n",
    "    if count > 0:\n",
    "        print(f\"{count} file(s) found!\")\n",
    "    else:\n",
    "        print(\"There is no file in the path!\")\n",
    "\n",
    "def all_dirs_files(path):\n",
    "    print(\"All files and directories:\")\n",
    "    for file in os.listdir(path):\n",
    "        full_path = os.path.join(path, file) \n",
    "        if os.path.isdir(full_path):\n",
    "            print(f\"{file} - directory\")\n",
    "        else:\n",
    "            print(f\"{file} - file\")\n",
    "only_dirs(path)\n",
    "only_files(path)\n",
    "all_dirs_files(path)"
   ]
  },
  {
   "cell_type": "code",
   "execution_count": null,
   "metadata": {},
   "outputs": [],
   "source": [
    "#2\n",
    "def check(path):\n",
    "    if not os.path.exists(path):\n",
    "        print(\"The path does not exist.\")\n",
    "        return\n",
    "    print(f\"The path '{path}' exists.\")\n",
    "\n",
    "    if os.access(path, os.R_OK):\n",
    "        print(\"It is readable\")\n",
    "    else:\n",
    "        print(\"It is not readable\")\n",
    "\n",
    "    if os.access(path, os.W_OK):\n",
    "        print(\"It is writeable\")\n",
    "    else:\n",
    "        print(\"It is not writeable\")\n",
    "\n",
    "    if os.access(path, os.X_OK):\n",
    "        print(\" It is executable\")\n",
    "    else:\n",
    "        print(\"It is not executable\")\n",
    "path=r\"C:\\Users\\user\\Desktop\\pp2\\lab6\\dir_and_files.ipynb\"\n",
    "check(path)"
   ]
  },
  {
   "cell_type": "code",
   "execution_count": null,
   "metadata": {},
   "outputs": [],
   "source": [
    "#3\n",
    "def func(path):\n",
    "    if os.path.exists(path):\n",
    "        print(f\"{os.path.basename(path)}, {os.path.dirname(path)}\")\n",
    "    else:\n",
    "        print(f\"{path} does not exist\")\n",
    "path=r\"C:\\Users\\user\\Desktop\\pp2\\lab6\\dir_and_files.ipynb\"\n",
    "func(path)"
   ]
  },
  {
   "cell_type": "code",
   "execution_count": null,
   "metadata": {},
   "outputs": [],
   "source": [
    "#4\n",
    "def numb(path):\n",
    "    with open(path,\"r\") as file:\n",
    "         lines = file.readlines()\n",
    "         print(len(lines))\n",
    "path=r\"C:\\Users\\user\\Desktop\\pp2\\lab6\\text.txt\"\n",
    "numb(path)"
   ]
  },
  {
   "cell_type": "code",
   "execution_count": null,
   "metadata": {},
   "outputs": [],
   "source": [
    "#5\n",
    "file=open(\"text.txt\",\"w\")\n",
    "file.write(\"here we go\\n\")\n",
    "file.close()"
   ]
  },
  {
   "cell_type": "code",
   "execution_count": null,
   "metadata": {},
   "outputs": [],
   "source": [
    "#6\n",
    "import string\n",
    "for i in range(26):\n",
    "    alphabet = list(string.ascii_uppercase)\n",
    "    file = open(r\"C:\\Users\\user\\Desktop\\pp2\\lab6\\text.txt\"+alphabet[i]+'.txt', 'w+')\n",
    "    file.close()"
   ]
  },
  {
   "cell_type": "code",
   "execution_count": null,
   "metadata": {},
   "outputs": [],
   "source": [
    "#7\n",
    "path1=r\"C:\\Users\\user\\Desktop\\pp2\\lab6\\text.txt\"\n",
    "path2=r\"C:\\Users\\user\\Desktop\\pp2\\lab6\\new_text.txt\"\n",
    "with open(path1, \"r\") as file1:\n",
    "    data = file1.read()\n",
    "\n",
    "with open(path2, 'w') as file2:\n",
    "    file2.write(data)"
   ]
  },
  {
   "cell_type": "code",
   "execution_count": null,
   "metadata": {},
   "outputs": [],
   "source": [
    "#8\n",
    "def func(path):\n",
    "    if os.path.exists(path):\n",
    "        os.remove(path)\n",
    "    else:\n",
    "        print(f\"{path} does not exist\")\n",
    "path=r\"C:\\Users\\user\\Desktop\\pp2\\lab6\\new_text.txt\"\n",
    "func(path)"
   ]
  }
 ],
 "metadata": {
  "kernelspec": {
   "display_name": "Python 3",
   "language": "python",
   "name": "python3"
  },
  "language_info": {
   "name": "python",
   "version": "3.13.1"
  }
 },
 "nbformat": 4,
 "nbformat_minor": 2
}
