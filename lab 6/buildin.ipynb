{
 "cells": [
  {
   "cell_type": "code",
   "execution_count": null,
   "metadata": {},
   "outputs": [],
   "source": [
    "#1\n",
    "import math\n",
    "numbers=[1,2,3,4,5]\n",
    "def multiply_nums(numbers):\n",
    "    return math.prod(numbers) \n",
    "result = multiply_nums(numbers)\n",
    "print(result)"
   ]
  },
  {
   "cell_type": "code",
   "execution_count": null,
   "metadata": {},
   "outputs": [],
   "source": [
    "#2\n",
    "import string\n",
    "def counting(str):\n",
    "    upper = 0\n",
    "    lower = 0\n",
    "    for letter in str:\n",
    "        if letter.isupper():\n",
    "            upper += 1\n",
    "        elif letter.islower():\n",
    "            lower += 1\n",
    "    print(f\"The string is: {str}\")\n",
    "    print(f\"The count of Uppercase letters: {upper}\")\n",
    "    print(f\"The count of Lowercase letters: {lower}\")\n",
    "\n",
    "\n",
    "str = input(\"Enter the string to count: \")\n",
    "counting(str)"
   ]
  },
  {
   "cell_type": "code",
   "execution_count": null,
   "metadata": {},
   "outputs": [],
   "source": [
    "#3\n",
    "def palindrome(s):\n",
    "    return s == s[::-1] \n",
    "string = input(\"Enter a string: \")\n",
    "if palindrome(string):\n",
    "    print(\"YES\")\n",
    "else:\n",
    "    print(\"NO\")"
   ]
  },
  {
   "cell_type": "code",
   "execution_count": null,
   "metadata": {},
   "outputs": [],
   "source": [
    "#4\n",
    "import time\n",
    "import math\n",
    "a=int(input())\n",
    "tim=int(input())\n",
    "time.sleep(tim/1000)\n",
    "b=a**0.5\n",
    "print(f\"Square root of {a} after {tim} miliseconds is {b}\")"
   ]
  },
  {
   "cell_type": "code",
   "execution_count": null,
   "metadata": {},
   "outputs": [],
   "source": [
    "#5\n",
    "def check(tuple):\n",
    "    if all(tuple):\n",
    "        print(f\"All element are true\")\n",
    "    else:\n",
    "        print(f\"One or more of the elements  are false\")\n",
    "tuple={1,\"wrd\",True}\n",
    "check(tuple)"
   ]
  }
 ],
 "metadata": {
  "kernelspec": {
   "display_name": "Python 3",
   "language": "python",
   "name": "python3"
  },
  "language_info": {
   "name": "python",
   "version": "3.13.1"
  }
 },
 "nbformat": 4,
 "nbformat_minor": 2
}
